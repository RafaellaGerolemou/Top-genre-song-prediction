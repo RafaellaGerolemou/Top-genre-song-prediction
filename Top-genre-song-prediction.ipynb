{
 "cells": [
  {
   "cell_type": "code",
   "execution_count": 1,
   "metadata": {},
   "outputs": [],
   "source": [
    "import pandas as pd\n",
    "import numpy as np\n",
    "import seaborn as sns\n",
    "import matplotlib.pyplot as plt\n",
    "\n",
    "from sklearn.linear_model import LogisticRegression\n",
    "from sklearn.tree import DecisionTreeClassifier\n",
    "from sklearn.ensemble import RandomForestClassifier\n",
    "from sklearn.ensemble import VotingClassifier\n",
    "from sklearn.svm import SVC\n",
    "from sklearn.ensemble import BaggingClassifier\n",
    "from sklearn.metrics import confusion_matrix\n",
    "from sklearn import metrics\n",
    "from sklearn.metrics import accuracy_score\n",
    "from sklearn.model_selection import cross_val_score\n",
    "from sklearn.model_selection import GridSearchCV"
   ]
  },
  {
   "cell_type": "markdown",
   "metadata": {},
   "source": [
    "### Data Handling"
   ]
  },
  {
   "cell_type": "code",
   "execution_count": 2,
   "metadata": {},
   "outputs": [],
   "source": [
    "data = pd.read_csv(\"CS98XClassificationTrain.csv\")"
   ]
  },
  {
   "cell_type": "code",
   "execution_count": 3,
   "metadata": {},
   "outputs": [
    {
     "data": {
      "text/html": [
       "<div>\n",
       "<style scoped>\n",
       "    .dataframe tbody tr th:only-of-type {\n",
       "        vertical-align: middle;\n",
       "    }\n",
       "\n",
       "    .dataframe tbody tr th {\n",
       "        vertical-align: top;\n",
       "    }\n",
       "\n",
       "    .dataframe thead th {\n",
       "        text-align: right;\n",
       "    }\n",
       "</style>\n",
       "<table border=\"1\" class=\"dataframe\">\n",
       "  <thead>\n",
       "    <tr style=\"text-align: right;\">\n",
       "      <th></th>\n",
       "      <th>Id</th>\n",
       "      <th>title</th>\n",
       "      <th>artist</th>\n",
       "      <th>year</th>\n",
       "      <th>bpm</th>\n",
       "      <th>nrgy</th>\n",
       "      <th>dnce</th>\n",
       "      <th>dB</th>\n",
       "      <th>live</th>\n",
       "      <th>val</th>\n",
       "      <th>dur</th>\n",
       "      <th>acous</th>\n",
       "      <th>spch</th>\n",
       "      <th>pop</th>\n",
       "      <th>top genre</th>\n",
       "    </tr>\n",
       "  </thead>\n",
       "  <tbody>\n",
       "    <tr>\n",
       "      <th>0</th>\n",
       "      <td>1</td>\n",
       "      <td>My Happiness</td>\n",
       "      <td>Connie Francis</td>\n",
       "      <td>1996</td>\n",
       "      <td>107</td>\n",
       "      <td>31</td>\n",
       "      <td>45</td>\n",
       "      <td>-8</td>\n",
       "      <td>13</td>\n",
       "      <td>28</td>\n",
       "      <td>150</td>\n",
       "      <td>75</td>\n",
       "      <td>3</td>\n",
       "      <td>44</td>\n",
       "      <td>adult standards</td>\n",
       "    </tr>\n",
       "    <tr>\n",
       "      <th>1</th>\n",
       "      <td>2</td>\n",
       "      <td>Unchained Melody</td>\n",
       "      <td>The Teddy Bears</td>\n",
       "      <td>2011</td>\n",
       "      <td>114</td>\n",
       "      <td>44</td>\n",
       "      <td>53</td>\n",
       "      <td>-8</td>\n",
       "      <td>13</td>\n",
       "      <td>47</td>\n",
       "      <td>139</td>\n",
       "      <td>49</td>\n",
       "      <td>3</td>\n",
       "      <td>37</td>\n",
       "      <td>NaN</td>\n",
       "    </tr>\n",
       "    <tr>\n",
       "      <th>2</th>\n",
       "      <td>3</td>\n",
       "      <td>How Deep Is Your Love</td>\n",
       "      <td>Bee Gees</td>\n",
       "      <td>1979</td>\n",
       "      <td>105</td>\n",
       "      <td>36</td>\n",
       "      <td>63</td>\n",
       "      <td>-9</td>\n",
       "      <td>13</td>\n",
       "      <td>67</td>\n",
       "      <td>245</td>\n",
       "      <td>11</td>\n",
       "      <td>3</td>\n",
       "      <td>77</td>\n",
       "      <td>adult standards</td>\n",
       "    </tr>\n",
       "    <tr>\n",
       "      <th>3</th>\n",
       "      <td>4</td>\n",
       "      <td>Woman in Love</td>\n",
       "      <td>Barbra Streisand</td>\n",
       "      <td>1980</td>\n",
       "      <td>170</td>\n",
       "      <td>28</td>\n",
       "      <td>47</td>\n",
       "      <td>-16</td>\n",
       "      <td>13</td>\n",
       "      <td>33</td>\n",
       "      <td>232</td>\n",
       "      <td>25</td>\n",
       "      <td>3</td>\n",
       "      <td>67</td>\n",
       "      <td>adult standards</td>\n",
       "    </tr>\n",
       "    <tr>\n",
       "      <th>4</th>\n",
       "      <td>5</td>\n",
       "      <td>Goodbye Yellow Brick Road - Remastered 2014</td>\n",
       "      <td>Elton John</td>\n",
       "      <td>1973</td>\n",
       "      <td>121</td>\n",
       "      <td>47</td>\n",
       "      <td>56</td>\n",
       "      <td>-8</td>\n",
       "      <td>15</td>\n",
       "      <td>40</td>\n",
       "      <td>193</td>\n",
       "      <td>45</td>\n",
       "      <td>3</td>\n",
       "      <td>63</td>\n",
       "      <td>glam rock</td>\n",
       "    </tr>\n",
       "  </tbody>\n",
       "</table>\n",
       "</div>"
      ],
      "text/plain": [
       "   Id                                        title            artist  year  \\\n",
       "0   1                                 My Happiness    Connie Francis  1996   \n",
       "1   2                             Unchained Melody   The Teddy Bears  2011   \n",
       "2   3                        How Deep Is Your Love          Bee Gees  1979   \n",
       "3   4                                Woman in Love  Barbra Streisand  1980   \n",
       "4   5  Goodbye Yellow Brick Road - Remastered 2014        Elton John  1973   \n",
       "\n",
       "   bpm  nrgy  dnce  dB  live  val  dur  acous  spch  pop        top genre  \n",
       "0  107    31    45  -8    13   28  150     75     3   44  adult standards  \n",
       "1  114    44    53  -8    13   47  139     49     3   37              NaN  \n",
       "2  105    36    63  -9    13   67  245     11     3   77  adult standards  \n",
       "3  170    28    47 -16    13   33  232     25     3   67  adult standards  \n",
       "4  121    47    56  -8    15   40  193     45     3   63        glam rock  "
      ]
     },
     "execution_count": 3,
     "metadata": {},
     "output_type": "execute_result"
    }
   ],
   "source": [
    "data.head()"
   ]
  },
  {
   "cell_type": "code",
   "execution_count": 4,
   "metadata": {},
   "outputs": [
    {
     "name": "stdout",
     "output_type": "stream",
     "text": [
      "<class 'pandas.core.frame.DataFrame'>\n",
      "RangeIndex: 453 entries, 0 to 452\n",
      "Data columns (total 15 columns):\n",
      " #   Column     Non-Null Count  Dtype \n",
      "---  ------     --------------  ----- \n",
      " 0   Id         453 non-null    int64 \n",
      " 1   title      453 non-null    object\n",
      " 2   artist     453 non-null    object\n",
      " 3   year       453 non-null    int64 \n",
      " 4   bpm        453 non-null    int64 \n",
      " 5   nrgy       453 non-null    int64 \n",
      " 6   dnce       453 non-null    int64 \n",
      " 7   dB         453 non-null    int64 \n",
      " 8   live       453 non-null    int64 \n",
      " 9   val        453 non-null    int64 \n",
      " 10  dur        453 non-null    int64 \n",
      " 11  acous      453 non-null    int64 \n",
      " 12  spch       453 non-null    int64 \n",
      " 13  pop        453 non-null    int64 \n",
      " 14  top genre  438 non-null    object\n",
      "dtypes: int64(12), object(3)\n",
      "memory usage: 53.2+ KB\n"
     ]
    }
   ],
   "source": [
    "data.info()"
   ]
  },
  {
   "cell_type": "markdown",
   "metadata": {},
   "source": [
    "#### Explore Top Genre  Balance"
   ]
  },
  {
   "cell_type": "code",
   "execution_count": 3,
   "metadata": {},
   "outputs": [
    {
     "data": {
      "text/plain": [
       "adult standards           68\n",
       "album rock                66\n",
       "dance pop                 61\n",
       "glam rock                 16\n",
       "brill building pop        16\n",
       "                          ..\n",
       "yodeling                   1\n",
       "uk garage                  1\n",
       "bow pop                    1\n",
       "classic danish pop         1\n",
       "australian talent show     1\n",
       "Name: top genre, Length: 86, dtype: int64"
      ]
     },
     "execution_count": 3,
     "metadata": {},
     "output_type": "execute_result"
    }
   ],
   "source": [
    "#count genres\n",
    "data[\"top genre\"].value_counts()"
   ]
  },
  {
   "cell_type": "code",
   "execution_count": 7,
   "metadata": {},
   "outputs": [
    {
     "data": {
      "text/plain": [
       "Text(0.5, 1.0, 'The number of instances per genre')"
      ]
     },
     "execution_count": 7,
     "metadata": {},
     "output_type": "execute_result"
    },
    {
     "data": {
      "image/png": "[encoded data removed]",
      "text/plain": [
       "<Figure size 1800x1080 with 1 Axes>"
      ]
     },
     "metadata": {},
     "output_type": "display_data"
    }
   ],
   "source": [
    "sns.set(rc={'figure.figsize':(25,15)})\n",
    "sns.countplot(y=\"top genre\", data=data, color='blue',order = data['top genre'].value_counts().index).set_title('The number of instances per genre')"
   ]
  },
  {
   "cell_type": "markdown",
   "metadata": {},
   "source": [
    "#### Summary of the numeric attributes"
   ]
  },
  {
   "cell_type": "code",
   "execution_count": 8,
   "metadata": {},
   "outputs": [
    {
     "data": {
      "text/html": [
       "<div>\n",
       "<style scoped>\n",
       "    .dataframe tbody tr th:only-of-type {\n",
       "        vertical-align: middle;\n",
       "    }\n",
       "\n",
       "    .dataframe tbody tr th {\n",
       "        vertical-align: top;\n",
       "    }\n",
       "\n",
       "    .dataframe thead th {\n",
       "        text-align: right;\n",
       "    }\n",
       "</style>\n",
       "<table border=\"1\" class=\"dataframe\">\n",
       "  <thead>\n",
       "    <tr style=\"text-align: right;\">\n",
       "      <th></th>\n",
       "      <th>Id</th>\n",
       "      <th>year</th>\n",
       "      <th>bpm</th>\n",
       "      <th>nrgy</th>\n",
       "      <th>dnce</th>\n",
       "      <th>dB</th>\n",
       "      <th>live</th>\n",
       "      <th>val</th>\n",
       "      <th>dur</th>\n",
       "      <th>acous</th>\n",
       "      <th>spch</th>\n",
       "      <th>pop</th>\n",
       "    </tr>\n",
       "  </thead>\n",
       "  <tbody>\n",
       "    <tr>\n",
       "      <th>count</th>\n",
       "      <td>453.000000</td>\n",
       "      <td>453.000000</td>\n",
       "      <td>453.000000</td>\n",
       "      <td>453.000000</td>\n",
       "      <td>453.000000</td>\n",
       "      <td>453.000000</td>\n",
       "      <td>453.000000</td>\n",
       "      <td>453.000000</td>\n",
       "      <td>453.000000</td>\n",
       "      <td>453.000000</td>\n",
       "      <td>453.000000</td>\n",
       "      <td>453.000000</td>\n",
       "    </tr>\n",
       "    <tr>\n",
       "      <th>mean</th>\n",
       "      <td>227.000000</td>\n",
       "      <td>1991.443709</td>\n",
       "      <td>118.399558</td>\n",
       "      <td>60.070640</td>\n",
       "      <td>59.565121</td>\n",
       "      <td>-8.836645</td>\n",
       "      <td>17.757174</td>\n",
       "      <td>59.465784</td>\n",
       "      <td>226.278146</td>\n",
       "      <td>32.982340</td>\n",
       "      <td>5.660044</td>\n",
       "      <td>60.743929</td>\n",
       "    </tr>\n",
       "    <tr>\n",
       "      <th>std</th>\n",
       "      <td>130.914094</td>\n",
       "      <td>16.776103</td>\n",
       "      <td>25.238713</td>\n",
       "      <td>22.205284</td>\n",
       "      <td>15.484458</td>\n",
       "      <td>3.577187</td>\n",
       "      <td>13.830300</td>\n",
       "      <td>24.539868</td>\n",
       "      <td>63.770380</td>\n",
       "      <td>29.530015</td>\n",
       "      <td>5.550581</td>\n",
       "      <td>13.470083</td>\n",
       "    </tr>\n",
       "    <tr>\n",
       "      <th>min</th>\n",
       "      <td>1.000000</td>\n",
       "      <td>1948.000000</td>\n",
       "      <td>62.000000</td>\n",
       "      <td>7.000000</td>\n",
       "      <td>18.000000</td>\n",
       "      <td>-24.000000</td>\n",
       "      <td>2.000000</td>\n",
       "      <td>6.000000</td>\n",
       "      <td>98.000000</td>\n",
       "      <td>0.000000</td>\n",
       "      <td>2.000000</td>\n",
       "      <td>26.000000</td>\n",
       "    </tr>\n",
       "    <tr>\n",
       "      <th>25%</th>\n",
       "      <td>114.000000</td>\n",
       "      <td>1976.000000</td>\n",
       "      <td>100.000000</td>\n",
       "      <td>43.000000</td>\n",
       "      <td>49.000000</td>\n",
       "      <td>-11.000000</td>\n",
       "      <td>9.000000</td>\n",
       "      <td>42.000000</td>\n",
       "      <td>181.000000</td>\n",
       "      <td>7.000000</td>\n",
       "      <td>3.000000</td>\n",
       "      <td>53.000000</td>\n",
       "    </tr>\n",
       "    <tr>\n",
       "      <th>50%</th>\n",
       "      <td>227.000000</td>\n",
       "      <td>1994.000000</td>\n",
       "      <td>119.000000</td>\n",
       "      <td>63.000000</td>\n",
       "      <td>61.000000</td>\n",
       "      <td>-8.000000</td>\n",
       "      <td>13.000000</td>\n",
       "      <td>61.000000</td>\n",
       "      <td>223.000000</td>\n",
       "      <td>24.000000</td>\n",
       "      <td>4.000000</td>\n",
       "      <td>63.000000</td>\n",
       "    </tr>\n",
       "    <tr>\n",
       "      <th>75%</th>\n",
       "      <td>340.000000</td>\n",
       "      <td>2007.000000</td>\n",
       "      <td>133.000000</td>\n",
       "      <td>78.000000</td>\n",
       "      <td>70.000000</td>\n",
       "      <td>-6.000000</td>\n",
       "      <td>23.000000</td>\n",
       "      <td>80.000000</td>\n",
       "      <td>262.000000</td>\n",
       "      <td>58.000000</td>\n",
       "      <td>6.000000</td>\n",
       "      <td>71.000000</td>\n",
       "    </tr>\n",
       "    <tr>\n",
       "      <th>max</th>\n",
       "      <td>453.000000</td>\n",
       "      <td>2019.000000</td>\n",
       "      <td>199.000000</td>\n",
       "      <td>100.000000</td>\n",
       "      <td>96.000000</td>\n",
       "      <td>-1.000000</td>\n",
       "      <td>93.000000</td>\n",
       "      <td>99.000000</td>\n",
       "      <td>511.000000</td>\n",
       "      <td>100.000000</td>\n",
       "      <td>47.000000</td>\n",
       "      <td>84.000000</td>\n",
       "    </tr>\n",
       "  </tbody>\n",
       "</table>\n",
       "</div>"
      ],
      "text/plain": [
       "               Id         year         bpm        nrgy        dnce  \\\n",
       "count  453.000000   453.000000  453.000000  453.000000  453.000000   \n",
       "mean   227.000000  1991.443709  118.399558   60.070640   59.565121   \n",
       "std    130.914094    16.776103   25.238713   22.205284   15.484458   \n",
       "min      1.000000  1948.000000   62.000000    7.000000   18.000000   \n",
       "25%    114.000000  1976.000000  100.000000   43.000000   49.000000   \n",
       "50%    227.000000  1994.000000  119.000000   63.000000   61.000000   \n",
       "75%    340.000000  2007.000000  133.000000   78.000000   70.000000   \n",
       "max    453.000000  2019.000000  199.000000  100.000000   96.000000   \n",
       "\n",
       "               dB        live         val         dur       acous        spch  \\\n",
       "count  453.000000  453.000000  453.000000  453.000000  453.000000  453.000000   \n",
       "mean    -8.836645   17.757174   59.465784  226.278146   32.982340    5.660044   \n",
       "std      3.577187   13.830300   24.539868   63.770380   29.530015    5.550581   \n",
       "min    -24.000000    2.000000    6.000000   98.000000    0.000000    2.000000   \n",
       "25%    -11.000000    9.000000   42.000000  181.000000    7.000000    3.000000   \n",
       "50%     -8.000000   13.000000   61.000000  223.000000   24.000000    4.000000   \n",
       "75%     -6.000000   23.000000   80.000000  262.000000   58.000000    6.000000   \n",
       "max     -1.000000   93.000000   99.000000  511.000000  100.000000   47.000000   \n",
       "\n",
       "              pop  \n",
       "count  453.000000  \n",
       "mean    60.743929  \n",
       "std     13.470083  \n",
       "min     26.000000  \n",
       "25%     53.000000  \n",
       "50%     63.000000  \n",
       "75%     71.000000  \n",
       "max     84.000000  "
      ]
     },
     "execution_count": 8,
     "metadata": {},
     "output_type": "execute_result"
    }
   ],
   "source": [
    "data.describe()"
   ]
  },
  {
   "cell_type": "markdown",
   "metadata": {},
   "source": [
    "#### Visualisation for the correlations"
   ]
  },
  {
   "cell_type": "code",
   "execution_count": 10,
   "metadata": {},
   "outputs": [
    {
     "data": {
      "image/png": "[encoded data removed]",
      "text/plain": [
       "<Figure size 792x1080 with 2 Axes>"
      ]
     },
     "metadata": {
      "needs_background": "light"
     },
     "output_type": "display_data"
    }
   ],
   "source": [
    "def corr_heatmap(data):\n",
    "    corr_matrix = data.corr()\n",
    "    mask = np.zeros_like(corr_matrix, dtype=np.bool)\n",
    "    mask[np.triu_indices_from(mask)]= True\n",
    "    f, ax = plt.subplots(figsize=(11, 15)) \n",
    "    heatmap = sns.heatmap(corr_matrix, \n",
    "                          mask = mask,\n",
    "                          square = True,\n",
    "                          linewidths = .5,\n",
    "                          cmap = 'coolwarm',\n",
    "                          cbar_kws = {'shrink': .4, \n",
    "                                    'ticks' : [-1, -.5, 0, 0.5, 1]},\n",
    "                          vmin = -1, \n",
    "                          vmax = 1,\n",
    "                          annot = True,\n",
    "                          annot_kws = {'size': 12})#add the column names as labels\n",
    "    ax.set_yticklabels(corr_matrix.columns, rotation = 0)\n",
    "    ax.set_xticklabels(corr_matrix.columns)\n",
    "    sns.set_style({'xtick.bottom': True}, {'ytick.left': True})\n",
    "    \n",
    "corr_heatmap(data)"
   ]
  },
  {
   "cell_type": "markdown",
   "metadata": {},
   "source": [
    "### Data Preparation"
   ]
  },
  {
   "cell_type": "code",
   "execution_count": 4,
   "metadata": {},
   "outputs": [
    {
     "data": {
      "text/plain": [
       "Id            0\n",
       "title         0\n",
       "artist        0\n",
       "year          0\n",
       "bpm           0\n",
       "nrgy          0\n",
       "dnce          0\n",
       "dB            0\n",
       "live          0\n",
       "val           0\n",
       "dur           0\n",
       "acous         0\n",
       "spch          0\n",
       "pop           0\n",
       "top genre    15\n",
       "dtype: int64"
      ]
     },
     "execution_count": 4,
     "metadata": {},
     "output_type": "execute_result"
    }
   ],
   "source": [
    "#null values per column\n",
    "data.isnull().sum()"
   ]
  },
  {
   "cell_type": "code",
   "execution_count": 12,
   "metadata": {},
   "outputs": [
    {
     "data": {
      "text/plain": [
       "(438, 15)"
      ]
     },
     "execution_count": 12,
     "metadata": {},
     "output_type": "execute_result"
    }
   ],
   "source": [
    "#drop n/a values (deleting 15 rows)\n",
    "sp_data=data.dropna()\n",
    "sp_data.shape"
   ]
  },
  {
   "cell_type": "code",
   "execution_count": 13,
   "metadata": {},
   "outputs": [],
   "source": [
    "sp_data.values\n",
    "features = [\"pop\", \"spch\", \"acous\", \"dur\", \"val\", \"live\",\"dB\",\"dnce\",\"nrgy\",\"bpm\"]\n",
    "X_train = sp_data[features].values\n",
    "y_train = sp_data['top genre'].values"
   ]
  },
  {
   "cell_type": "markdown",
   "metadata": {},
   "source": [
    "###  Data Analysis"
   ]
  },
  {
   "cell_type": "code",
   "execution_count": 14,
   "metadata": {},
   "outputs": [
    {
     "data": {
      "text/plain": [
       "RandomForestClassifier(bootstrap=True, ccp_alpha=0.0, class_weight=None,\n",
       "                       criterion='gini', max_depth=None, max_features='auto',\n",
       "                       max_leaf_nodes=80, max_samples=None,\n",
       "                       min_impurity_decrease=0.0, min_impurity_split=None,\n",
       "                       min_samples_leaf=1, min_samples_split=2,\n",
       "                       min_weight_fraction_leaf=0.0, n_estimators=500,\n",
       "                       n_jobs=-1, oob_score=False, random_state=42, verbose=0,\n",
       "                       warm_start=False)"
      ]
     },
     "execution_count": 14,
     "metadata": {},
     "output_type": "execute_result"
    }
   ],
   "source": [
    "rnd_clf = RandomForestClassifier(n_estimators=500, max_leaf_nodes=80, n_jobs=-1, random_state=42)\n",
    "rnd_clf.fit(X_train, y_train)"
   ]
  },
  {
   "cell_type": "code",
   "execution_count": 15,
   "metadata": {},
   "outputs": [
    {
     "name": "stdout",
     "output_type": "stream",
     "text": [
      "Accuracy score:  0.9269406392694064\n"
     ]
    }
   ],
   "source": [
    "#accuracy score\n",
    "ypred2 = rnd_clf.predict(X_train)\n",
    "print(\"Accuracy score: \" ,accuracy_score(y_train, ypred2))"
   ]
  },
  {
   "cell_type": "code",
   "execution_count": 16,
   "metadata": {},
   "outputs": [
    {
     "name": "stdout",
     "output_type": "stream",
     "text": [
      "                         precision    recall  f1-score   support\n",
      "\n",
      "         acoustic blues       1.00      1.00      1.00         1\n",
      "        adult standards       0.79      1.00      0.88        68\n",
      "               afrobeat       1.00      1.00      1.00         1\n",
      "                afropop       1.00      1.00      1.00         1\n",
      "             album rock       0.92      0.98      0.95        66\n",
      "      alternative metal       1.00      1.00      1.00         2\n",
      "       alternative rock       1.00      1.00      1.00         1\n",
      "  american folk revival       0.00      0.00      0.00         1\n",
      "                art pop       1.00      1.00      1.00         2\n",
      "               art rock       1.00      0.43      0.60         7\n",
      "            atl hip hop       1.00      1.00      1.00         6\n",
      "        australian rock       1.00      1.00      1.00         1\n",
      " australian talent show       1.00      1.00      1.00         1\n",
      "       avant-garde jazz       1.00      1.00      1.00         1\n",
      "          barbadian pop       1.00      0.83      0.91         6\n",
      "            baroque pop       1.00      1.00      1.00         1\n",
      "                  bebop       1.00      1.00      1.00         2\n",
      "          belgian dance       1.00      1.00      1.00         1\n",
      "            belgian pop       1.00      1.00      1.00         2\n",
      "               big room       1.00      1.00      1.00         2\n",
      "                  blues       1.00      1.00      1.00         1\n",
      "             blues rock       1.00      1.00      1.00         2\n",
      "               boogaloo       1.00      1.00      1.00         1\n",
      "                bow pop       1.00      1.00      1.00         1\n",
      "               boy band       1.00      1.00      1.00        10\n",
      "     brill building pop       1.00      0.81      0.90        16\n",
      "              brit funk       1.00      1.00      1.00         1\n",
      "          british blues       1.00      1.00      1.00         1\n",
      "         british comedy       0.00      0.00      0.00         1\n",
      "     british dance band       1.00      1.00      1.00         1\n",
      "           british folk       1.00      0.50      0.67         2\n",
      "       british invasion       1.00      0.88      0.93         8\n",
      "           british soul       1.00      0.80      0.89         5\n",
      "                britpop       1.00      1.00      1.00         1\n",
      "          bronx hip hop       1.00      1.00      1.00         2\n",
      "          bubble trance       1.00      1.00      1.00         1\n",
      "        bubblegum dance       1.00      1.00      1.00         7\n",
      "          bubblegum pop       1.00      1.00      1.00         1\n",
      "          canadian folk       1.00      1.00      1.00         1\n",
      "           canadian pop       1.00      1.00      1.00         2\n",
      "            celtic rock       1.00      1.00      1.00         2\n",
      "                chanson       1.00      1.00      1.00         2\n",
      "            chicago rap       1.00      1.00      1.00         2\n",
      "           chicago soul       1.00      1.00      1.00         2\n",
      "     classic danish pop       1.00      1.00      1.00         1\n",
      "     classic girl group       1.00      1.00      1.00         1\n",
      "           classic rock       1.00      0.50      0.67         2\n",
      "           classic soul       1.00      0.60      0.75         5\n",
      "         classic uk pop       1.00      1.00      1.00         4\n",
      "                country       1.00      1.00      1.00         1\n",
      "           country rock       0.00      0.00      0.00         2\n",
      "              dance pop       0.88      1.00      0.94        61\n",
      "             dance rock       1.00      1.00      1.00        13\n",
      "   deep adult standards       1.00      0.83      0.91         6\n",
      "             deep house       0.00      0.00      0.00         1\n",
      "        detroit hip hop       1.00      1.00      1.00         2\n",
      "                  disco       1.00      0.86      0.92         7\n",
      "            disco house       1.00      1.00      1.00         3\n",
      "                doo-wop       1.00      0.75      0.86         4\n",
      "             drone folk       1.00      1.00      1.00         1\n",
      "     east coast hip hop       1.00      1.00      1.00         4\n",
      "              eurodance       1.00      1.00      1.00         6\n",
      "                europop       1.00      0.93      0.96        14\n",
      "                 g funk       1.00      1.00      1.00         3\n",
      "german alternative rock       0.00      0.00      0.00         1\n",
      "           german dance       1.00      1.00      1.00         1\n",
      "             glam metal       1.00      1.00      1.00         2\n",
      "              glam punk       1.00      1.00      1.00         1\n",
      "              glam rock       1.00      0.94      0.97        16\n",
      "                 hi-nrg       1.00      1.00      1.00         1\n",
      "                hip hop       1.00      1.00      1.00         2\n",
      "                hip pop       1.00      1.00      1.00         1\n",
      "            italian pop       1.00      1.00      1.00         1\n",
      "                  latin       1.00      1.00      1.00         1\n",
      "        louisiana blues       0.00      0.00      0.00         1\n",
      "            mellow gold       0.00      0.00      0.00         1\n",
      "             merseybeat       1.00      1.00      1.00         2\n",
      "             neo mellow       1.00      1.00      1.00         1\n",
      "           new wave pop       1.00      0.67      0.80         3\n",
      "         permanent wave       1.00      1.00      1.00         2\n",
      "                    pop       1.00      0.40      0.57         5\n",
      "                    r&b       1.00      1.00      1.00         1\n",
      "          rock-and-roll       1.00      1.00      1.00         1\n",
      "              soft rock       1.00      1.00      1.00         5\n",
      "              uk garage       1.00      1.00      1.00         1\n",
      "               yodeling       1.00      1.00      1.00         1\n",
      "\n",
      "               accuracy                           0.93       438\n",
      "              macro avg       0.91      0.87      0.88       438\n",
      "           weighted avg       0.92      0.93      0.92       438\n",
      "\n"
     ]
    },
    {
     "name": "stderr",
     "output_type": "stream",
     "text": [
      "/Users/rafaellayerolemou/opt/anaconda3/lib/python3.7/site-packages/sklearn/metrics/_classification.py:1272: UndefinedMetricWarning: Precision and F-score are ill-defined and being set to 0.0 in labels with no predicted samples. Use `zero_division` parameter to control this behavior.\n",
      "  _warn_prf(average, modifier, msg_start, len(result))\n"
     ]
    }
   ],
   "source": [
    "#evaluation report\n",
    "print(metrics.classification_report(y_train, ypred2))"
   ]
  },
  {
   "cell_type": "code",
   "execution_count": 17,
   "metadata": {},
   "outputs": [
    {
     "name": "stderr",
     "output_type": "stream",
     "text": [
      "/Users/rafaellayerolemou/opt/anaconda3/lib/python3.7/site-packages/sklearn/model_selection/_split.py:667: UserWarning: The least populated class in y has only 1 members, which is less than n_splits=10.\n",
      "  % (min_groups, self.n_splits)), UserWarning)\n"
     ]
    },
    {
     "name": "stdout",
     "output_type": "stream",
     "text": [
      "[0.27272727 0.29545455 0.27272727 0.34090909 0.31818182 0.29545455\n",
      " 0.29545455 0.27272727 0.3255814  0.27906977]\n"
     ]
    }
   ],
   "source": [
    "forest_scores1 = cross_val_score(rnd_clf, X_train, y_train,\n",
    "                                scoring=\"accuracy\", cv=10)\n",
    "print(forest_scores1)"
   ]
  },
  {
   "cell_type": "code",
   "execution_count": 18,
   "metadata": {},
   "outputs": [
    {
     "name": "stdout",
     "output_type": "stream",
     "text": [
      "pop 0.11152900891077108\n",
      "spch 0.06363511244527116\n",
      "acous 0.10862338714991943\n",
      "dur 0.1372098407208976\n",
      "val 0.09488631679870928\n",
      "live 0.08026867632244475\n",
      "dB 0.07977730026764725\n",
      "dnce 0.10724496631603518\n",
      "nrgy 0.11960514612338513\n",
      "bpm 0.09722024494491906\n"
     ]
    }
   ],
   "source": [
    "for name, score in zip(features, \n",
    "                       rnd_clf.feature_importances_):\n",
    "    print(name, score)"
   ]
  },
  {
   "cell_type": "code",
   "execution_count": 19,
   "metadata": {},
   "outputs": [
    {
     "name": "stderr",
     "output_type": "stream",
     "text": [
      "/Users/rafaellayerolemou/opt/anaconda3/lib/python3.7/site-packages/sklearn/model_selection/_split.py:667: UserWarning: The least populated class in y has only 1 members, which is less than n_splits=5.\n",
      "  % (min_groups, self.n_splits)), UserWarning)\n"
     ]
    },
    {
     "data": {
      "text/plain": [
       "GridSearchCV(cv=5, error_score=nan,\n",
       "             estimator=RandomForestClassifier(bootstrap=True, ccp_alpha=0.0,\n",
       "                                              class_weight=None,\n",
       "                                              criterion='gini', max_depth=None,\n",
       "                                              max_features='auto',\n",
       "                                              max_leaf_nodes=None,\n",
       "                                              max_samples=None,\n",
       "                                              min_impurity_decrease=0.0,\n",
       "                                              min_impurity_split=None,\n",
       "                                              min_samples_leaf=1,\n",
       "                                              min_samples_split=2,\n",
       "                                              min_weight_fraction_leaf=0.0,\n",
       "                                              n_estimators=100, n_jobs=None,\n",
       "                                              oob_score=False,\n",
       "                                              random_state=None, verbose=0,\n",
       "                                              warm_start=False),\n",
       "             iid='deprecated', n_jobs=None,\n",
       "             param_grid=[{'max_features': [2, 4, 6, 8],\n",
       "                          'n_estimators': [10, 100, 300]},\n",
       "                         {'bootstrap': [False], 'max_features': [2, 4, 6, 8],\n",
       "                          'n_estimators': [100, 300]}],\n",
       "             pre_dispatch='2*n_jobs', refit=True, return_train_score=True,\n",
       "             scoring='accuracy', verbose=0)"
      ]
     },
     "execution_count": 19,
     "metadata": {},
     "output_type": "execute_result"
    }
   ],
   "source": [
    "param_grid = [\n",
    "    # try 12 (3×4) combinations of hyperparameters\n",
    "    {'n_estimators': [10, 100, 300], 'max_features': [2, 4, 6,8]},\n",
    "    # then try 8 (2×4) combinations with bootstrap set as False\n",
    "    {'bootstrap': [False], 'n_estimators': [100, 300], 'max_features': [2, 4, 6,8]},\n",
    "  ]\n",
    "\n",
    "forest_clf = RandomForestClassifier()\n",
    "# train across 5 folds, that's a total of (12+8)*5=100 rounds of training \n",
    "grid_search = GridSearchCV(forest_clf, param_grid, cv=5,\n",
    "                           scoring='accuracy',\n",
    "                           return_train_score=True)\n",
    "grid_search.fit(X_train, y_train)"
   ]
  },
  {
   "cell_type": "code",
   "execution_count": 20,
   "metadata": {},
   "outputs": [
    {
     "data": {
      "text/plain": [
       "{'max_features': 2, 'n_estimators': 300}"
      ]
     },
     "execution_count": 20,
     "metadata": {},
     "output_type": "execute_result"
    }
   ],
   "source": [
    "#show best hyperparameters\n",
    "grid_search.best_params_"
   ]
  },
  {
   "cell_type": "code",
   "execution_count": 21,
   "metadata": {},
   "outputs": [
    {
     "data": {
      "text/plain": [
       "RandomForestClassifier(bootstrap=True, ccp_alpha=0.0, class_weight=None,\n",
       "                       criterion='gini', max_depth=None, max_features=2,\n",
       "                       max_leaf_nodes=None, max_samples=None,\n",
       "                       min_impurity_decrease=0.0, min_impurity_split=None,\n",
       "                       min_samples_leaf=1, min_samples_split=2,\n",
       "                       min_weight_fraction_leaf=0.0, n_estimators=300,\n",
       "                       n_jobs=None, oob_score=False, random_state=None,\n",
       "                       verbose=0, warm_start=False)"
      ]
     },
     "execution_count": 21,
     "metadata": {},
     "output_type": "execute_result"
    }
   ],
   "source": [
    "#show best estimator\n",
    "grid_search.best_estimator_"
   ]
  },
  {
   "cell_type": "code",
   "execution_count": 22,
   "metadata": {},
   "outputs": [
    {
     "name": "stdout",
     "output_type": "stream",
     "text": [
      "Accuracy score:  1.0\n"
     ]
    }
   ],
   "source": [
    "final_model = grid_search.best_estimator_\n",
    "final_predictions = final_model.predict(X_train)\n",
    "\n",
    "#accuracy score\n",
    "print(\"Accuracy score: \" ,accuracy_score(y_train, final_predictions))"
   ]
  },
  {
   "cell_type": "code",
   "execution_count": 23,
   "metadata": {},
   "outputs": [
    {
     "name": "stderr",
     "output_type": "stream",
     "text": [
      "/Users/rafaellayerolemou/opt/anaconda3/lib/python3.7/site-packages/sklearn/model_selection/_split.py:667: UserWarning: The least populated class in y has only 1 members, which is less than n_splits=10.\n",
      "  % (min_groups, self.n_splits)), UserWarning)\n"
     ]
    },
    {
     "name": "stdout",
     "output_type": "stream",
     "text": [
      "[0.34090909 0.29545455 0.27272727 0.31818182 0.31818182 0.27272727\n",
      " 0.29545455 0.20454545 0.27906977 0.34883721]\n"
     ]
    }
   ],
   "source": [
    "forest_scores = cross_val_score(final_model, X_train, y_train, scoring=\"accuracy\", cv=10)\n",
    "print(forest_scores)"
   ]
  },
  {
   "cell_type": "code",
   "execution_count": 24,
   "metadata": {},
   "outputs": [
    {
     "name": "stdout",
     "output_type": "stream",
     "text": [
      "Accuracy Score:  0.7488584474885844\n"
     ]
    }
   ],
   "source": [
    "bag_clf = BaggingClassifier(\n",
    "    DecisionTreeClassifier(random_state=42), n_estimators=500,\n",
    "    max_samples=100, bootstrap=True, oob_score=True, n_jobs=-1, random_state=42)\n",
    "bag_clf.fit(X_train, y_train)\n",
    "ypred = bag_clf.predict(X_train)\n",
    "print(\"Accuracy Score: \",accuracy_score(y_train, ypred))"
   ]
  },
  {
   "cell_type": "code",
   "execution_count": 25,
   "metadata": {},
   "outputs": [
    {
     "data": {
      "text/plain": [
       "0.2968036529680365"
      ]
     },
     "execution_count": 25,
     "metadata": {},
     "output_type": "execute_result"
    }
   ],
   "source": [
    "#out-of-bag evaluation\n",
    "bag_clf.oob_score_"
   ]
  },
  {
   "cell_type": "code",
   "execution_count": 26,
   "metadata": {},
   "outputs": [
    {
     "name": "stderr",
     "output_type": "stream",
     "text": [
      "/Users/rafaellayerolemou/opt/anaconda3/lib/python3.7/site-packages/sklearn/linear_model/_logistic.py:940: ConvergenceWarning: lbfgs failed to converge (status=1):\n",
      "STOP: TOTAL NO. of ITERATIONS REACHED LIMIT.\n",
      "\n",
      "Increase the number of iterations (max_iter) or scale the data as shown in:\n",
      "    https://scikit-learn.org/stable/modules/preprocessing.html\n",
      "Please also refer to the documentation for alternative solver options:\n",
      "    https://scikit-learn.org/stable/modules/linear_model.html#logistic-regression\n",
      "  extra_warning_msg=_LOGISTIC_SOLVER_CONVERGENCE_MSG)\n"
     ]
    },
    {
     "data": {
      "text/plain": [
       "VotingClassifier(estimators=[('lr',\n",
       "                              LogisticRegression(C=1.0, class_weight=None,\n",
       "                                                 dual=False, fit_intercept=True,\n",
       "                                                 intercept_scaling=1,\n",
       "                                                 l1_ratio=None, max_iter=100,\n",
       "                                                 multi_class='auto',\n",
       "                                                 n_jobs=None, penalty='l2',\n",
       "                                                 random_state=42,\n",
       "                                                 solver='lbfgs', tol=0.0001,\n",
       "                                                 verbose=0, warm_start=False)),\n",
       "                             ('rf',\n",
       "                              RandomForestClassifier(bootstrap=True,\n",
       "                                                     ccp_alpha=0.0,\n",
       "                                                     class_weight=None,\n",
       "                                                     crit...\n",
       "                                                     oob_score=False,\n",
       "                                                     random_state=42, verbose=0,\n",
       "                                                     warm_start=False)),\n",
       "                             ('svc',\n",
       "                              SVC(C=5, break_ties=False, cache_size=200,\n",
       "                                  class_weight=None, coef0=1,\n",
       "                                  decision_function_shape='ovr', degree=7,\n",
       "                                  gamma='scale', kernel='poly', max_iter=-1,\n",
       "                                  probability=False, random_state=42,\n",
       "                                  shrinking=True, tol=0.001, verbose=False))],\n",
       "                 flatten_transform=True, n_jobs=None, voting='hard',\n",
       "                 weights=None)"
      ]
     },
     "execution_count": 26,
     "metadata": {},
     "output_type": "execute_result"
    }
   ],
   "source": [
    "log_clf = LogisticRegression(random_state=42)\n",
    "rnd_clf = RandomForestClassifier(random_state=42)\n",
    "svm_clf = SVC(kernel=\"poly\", degree=7, coef0=1, C=5,random_state=42)\n",
    "voting_clf = VotingClassifier(estimators=[('lr', log_clf), ('rf', rnd_clf), ('svc', svm_clf)],voting='hard')\n",
    "voting_clf.fit(X_train, y_train)"
   ]
  },
  {
   "cell_type": "code",
   "execution_count": 27,
   "metadata": {},
   "outputs": [
    {
     "name": "stderr",
     "output_type": "stream",
     "text": [
      "/Users/rafaellayerolemou/opt/anaconda3/lib/python3.7/site-packages/sklearn/linear_model/_logistic.py:940: ConvergenceWarning: lbfgs failed to converge (status=1):\n",
      "STOP: TOTAL NO. of ITERATIONS REACHED LIMIT.\n",
      "\n",
      "Increase the number of iterations (max_iter) or scale the data as shown in:\n",
      "    https://scikit-learn.org/stable/modules/preprocessing.html\n",
      "Please also refer to the documentation for alternative solver options:\n",
      "    https://scikit-learn.org/stable/modules/linear_model.html#logistic-regression\n",
      "  extra_warning_msg=_LOGISTIC_SOLVER_CONVERGENCE_MSG)\n"
     ]
    },
    {
     "name": "stdout",
     "output_type": "stream",
     "text": [
      "LogisticRegression 0.3287671232876712\n",
      "RandomForestClassifier 1.0\n",
      "SVC 0.9771689497716894\n"
     ]
    },
    {
     "name": "stderr",
     "output_type": "stream",
     "text": [
      "/Users/rafaellayerolemou/opt/anaconda3/lib/python3.7/site-packages/sklearn/linear_model/_logistic.py:940: ConvergenceWarning: lbfgs failed to converge (status=1):\n",
      "STOP: TOTAL NO. of ITERATIONS REACHED LIMIT.\n",
      "\n",
      "Increase the number of iterations (max_iter) or scale the data as shown in:\n",
      "    https://scikit-learn.org/stable/modules/preprocessing.html\n",
      "Please also refer to the documentation for alternative solver options:\n",
      "    https://scikit-learn.org/stable/modules/linear_model.html#logistic-regression\n",
      "  extra_warning_msg=_LOGISTIC_SOLVER_CONVERGENCE_MSG)\n"
     ]
    },
    {
     "name": "stdout",
     "output_type": "stream",
     "text": [
      "VotingClassifier 0.9794520547945206\n"
     ]
    }
   ],
   "source": [
    "for clf in (log_clf, rnd_clf, svm_clf, voting_clf):\n",
    "    clf.fit(X_train, y_train)\n",
    "    ypred = clf.predict(X_train)\n",
    "    print(clf.__class__.__name__, accuracy_score(y_train, ypred))"
   ]
  },
  {
   "cell_type": "markdown",
   "metadata": {},
   "source": [
    "### Output the results for Kaggle competition"
   ]
  },
  {
   "cell_type": "code",
   "execution_count": 29,
   "metadata": {},
   "outputs": [],
   "source": [
    "#import Test dataset\n",
    "data_test = pd.read_csv(\"CS98XClassificationTest.csv\")"
   ]
  },
  {
   "cell_type": "code",
   "execution_count": 30,
   "metadata": {},
   "outputs": [
    {
     "name": "stdout",
     "output_type": "stream",
     "text": [
      "<class 'pandas.core.frame.DataFrame'>\n",
      "RangeIndex: 113 entries, 0 to 112\n",
      "Data columns (total 14 columns):\n",
      " #   Column  Non-Null Count  Dtype \n",
      "---  ------  --------------  ----- \n",
      " 0   Id      113 non-null    int64 \n",
      " 1   title   113 non-null    object\n",
      " 2   artist  113 non-null    object\n",
      " 3   year    113 non-null    int64 \n",
      " 4   bpm     113 non-null    int64 \n",
      " 5   nrgy    113 non-null    int64 \n",
      " 6   dnce    113 non-null    int64 \n",
      " 7   dB      113 non-null    int64 \n",
      " 8   live    113 non-null    int64 \n",
      " 9   val     113 non-null    int64 \n",
      " 10  dur     113 non-null    int64 \n",
      " 11  acous   113 non-null    int64 \n",
      " 12  spch    113 non-null    int64 \n",
      " 13  pop     113 non-null    int64 \n",
      "dtypes: int64(12), object(2)\n",
      "memory usage: 12.5+ KB\n"
     ]
    }
   ],
   "source": [
    "data_test.info()"
   ]
  },
  {
   "cell_type": "code",
   "execution_count": 31,
   "metadata": {},
   "outputs": [],
   "source": [
    "#separate out the predictors and labels\n",
    "data_test.values\n",
    "features = [\"pop\", \"spch\", \"acous\", \"dur\", \"val\", \"live\",\"dB\",\"dnce\",\"nrgy\",\"bpm\"]\n",
    "X_test = data_test[features].values"
   ]
  },
  {
   "cell_type": "code",
   "execution_count": 32,
   "metadata": {},
   "outputs": [],
   "source": [
    "#predictions from hard voting classifier\n",
    "test_predictions_final = voting_clf.predict(X_test)"
   ]
  },
  {
   "cell_type": "code",
   "execution_count": 33,
   "metadata": {},
   "outputs": [],
   "source": [
    "#export the predictions in csv files for kaggle:\n",
    "pd.DataFrame(test_predictions_final).set_index(data_test['Id']).rename(columns={0:'top genre'}).to_csv('upload_final_voting.csv')"
   ]
  }
 ],
 "metadata": {
  "kernelspec": {
   "display_name": "Python 3",
   "language": "python",
   "name": "python3"
  },
  "language_info": {
   "codemirror_mode": {
    "name": "ipython",
    "version": 3
   },
   "file_extension": ".py",
   "mimetype": "text/x-python",
   "name": "python",
   "nbconvert_exporter": "python",
   "pygments_lexer": "ipython3",
   "version": "3.7.6"
  }
 },
 "nbformat": 4,
 "nbformat_minor": 4
}
